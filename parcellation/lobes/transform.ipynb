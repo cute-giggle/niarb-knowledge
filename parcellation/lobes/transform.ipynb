{
 "cells": [
  {
   "cell_type": "code",
   "execution_count": 1,
   "metadata": {},
   "outputs": [],
   "source": [
    "import os\n",
    "import numpy as np\n",
    "import json\n",
    "\n",
    "\n",
    "def transform():\n",
    "    path = 'surface/lobes.annot'\n",
    "    with open(path, 'rb') as f:\n",
    "        color_count = np.fromfile(f, dtype=np.int32, count=1)[0]\n",
    "        color_table = []\n",
    "        for i in range(color_count):\n",
    "            color = np.fromfile(f, dtype=np.int32, count=4).tolist()\n",
    "            name_length = np.fromfile(f, dtype=np.int32, count=1)[0]\n",
    "            name = f.read(name_length).decode('utf-8')\n",
    "            color_table.append([color, name])\n",
    "        label_count = np.fromfile(f, dtype=np.int32, count=1)[0]\n",
    "        label = np.fromfile(f, dtype=np.int32, count=label_count).tolist()\n",
    "    save_path = 'surface/lobes.annot.json'\n",
    "    with open(save_path, 'w') as f:\n",
    "        json.dump({\n",
    "            'color_table': color_table,\n",
    "            'label': label\n",
    "        }, f)\n",
    "\n",
    "\n",
    "transform()"
   ]
  }
 ],
 "metadata": {
  "kernelspec": {
   "display_name": "Python 3",
   "language": "python",
   "name": "python3"
  },
  "language_info": {
   "codemirror_mode": {
    "name": "ipython",
    "version": 3
   },
   "file_extension": ".py",
   "mimetype": "text/x-python",
   "name": "python",
   "nbconvert_exporter": "python",
   "pygments_lexer": "ipython3",
   "version": "3.11.3"
  },
  "orig_nbformat": 4
 },
 "nbformat": 4,
 "nbformat_minor": 2
}
