{
 "cells": [
  {
   "cell_type": "code",
   "execution_count": 51,
   "metadata": {},
   "outputs": [
    {
     "name": "stdout",
     "output_type": "stream",
     "text": [
      "[{'id': 52, 'label': 'Brodmann.2'}, {'id': 342, 'label': '7Networks_LH_SomMot_21'}, {'id': 917, 'label': 'somatosensory processing'}, {'id': 541, 'label': 'spatial awareness'}, {'id': 918, 'label': 'Brodmann area 1'}, {'id': 774, 'label': 'inferior parietal lobule'}, {'id': 780, 'label': 'execution'}, {'id': 920, 'label': 'Brodmann area 5'}, {'id': 963, 'label': 'body image'}, {'id': 965, 'label': 'perception of pain'}, {'id': 932, 'label': 'motor planning'}, {'id': 905, 'label': 'premotor cortex'}, {'id': 520, 'label': 'parietal lobe'}, {'id': 712, 'label': 'supplementary motor area'}, {'id': 959, 'label': 'Area 2'}, {'id': 962, 'label': 'perception of touch'}, {'id': 960, 'label': 'BA2'}, {'id': 964, 'label': 'integration of sensory information for movement'}, {'id': 961, 'label': 'postcentral gyrus'}, {'id': 931, 'label': 'proprioception'}, {'id': 966, 'label': 'regulation of attention'}, {'id': 348, 'label': '7Networks_LH_DorsAttn_Post_8'}, {'id': 466, 'label': '7Networks_LH_DorsAttn_Post_6'}, {'id': 349, 'label': '7Networks_LH_DorsAttn_Post_11'}, {'id': 339, 'label': '7Networks_LH_SomMot_17'}, {'id': 305, 'label': '7Networks_RH_SomMot_32'}, {'id': 341, 'label': '7Networks_LH_SomMot_20'}, {'id': 391, 'label': '7Networks_LH_SalVentAttn_Med_6'}, {'id': 370, 'label': '7Networks_RH_SomMot_37'}, {'id': 372, 'label': '7Networks_RH_DorsAttn_Post_9'}, {'id': 63, 'label': 'Precentral'}, {'id': 350, 'label': '7Networks_LH_DorsAttn_Post_17'}, {'id': 71, 'label': 'Supramarginal'}, {'id': 198, 'label': '7Networks_RH_DorsAttn_Post_8'}, {'id': 336, 'label': '7Networks_LH_SomMot_13'}, {'id': 360, 'label': '7Networks_RH_SomMot_19'}, {'id': 332, 'label': '7Networks_LH_SomMot_9'}, {'id': 373, 'label': '7Networks_RH_DorsAttn_Post_13'}, {'id': 438, 'label': '7Networks_LH_DorsAttn_Post_12'}, {'id': 297, 'label': '7Networks_LH_SomMot_32'}, {'id': 369, 'label': '7Networks_RH_SomMot_35'}, {'id': 59, 'label': 'Postcentral'}, {'id': 351, 'label': '7Networks_LH_SalVentAttn_ParOper_3'}, {'id': 347, 'label': '7Networks_LH_SomMot_36'}, {'id': 357, 'label': '7Networks_RH_SomMot_16'}, {'id': 345, 'label': '7Networks_LH_SomMot_29'}, {'id': 445, 'label': '7Networks_RH_DorsAttn_Post_19'}, {'id': 473, 'label': '7Networks_RH_Cont_Par_4'}, {'id': 363, 'label': '7Networks_RH_SomMot_23'}, {'id': 294, 'label': '7Networks_LH_SomMot_23'}, {'id': 309, 'label': '7Networks_RH_SalVentAttn_Med_5'}, {'id': 471, 'label': '7Networks_RH_DorsAttn_Post_6'}, {'id': 371, 'label': '7Networks_RH_SomMot_40'}, {'id': 358, 'label': '7Networks_RH_SomMot_17'}, {'id': 365, 'label': '7Networks_RH_SomMot_27'}, {'id': 335, 'label': '7Networks_LH_SomMot_12'}, {'id': 334, 'label': '7Networks_LH_SomMot_11'}, {'id': 48, 'label': 'Paracentral'}, {'id': 440, 'label': '7Networks_LH_DorsAttn_Post_16'}, {'id': 68, 'label': 'Superior parietal'}, {'id': 179, 'label': '7Networks_LH_DorsAttn_Post_9'}, {'id': 64, 'label': 'Precuneus'}, {'id': 338, 'label': '7Networks_LH_SomMot_15'}, {'id': 436, 'label': '7Networks_LH_SomMot_27'}, {'id': 310, 'label': '7Networks_RH_SalVentAttn_Med_6'}, {'id': 366, 'label': '7Networks_RH_SomMot_28'}]\n",
      "[{'source': 52, 'target': 342, 'label': 'most contain'}, {'source': 52, 'target': 917, 'label': 'is_involved_in'}, {'source': 52, 'target': 541, 'label': 'is_involved_in'}, {'source': 52, 'target': 918, 'label': 'is_closely_associated_with'}, {'source': 52, 'target': 774, 'label': 'has_connection_to'}, {'source': 52, 'target': 780, 'label': 'is_involved_in'}, {'source': 52, 'target': 920, 'label': 'is_closely_associated_with'}, {'source': 52, 'target': 963, 'label': 'is_involved_in'}, {'source': 52, 'target': 965, 'label': 'is_involved_in'}, {'source': 52, 'target': 932, 'label': 'is_involved_in'}, {'source': 52, 'target': 905, 'label': 'has_connection_to'}, {'source': 52, 'target': 520, 'label': 'is_part_of'}, {'source': 52, 'target': 712, 'label': 'has_connection_to'}, {'source': 52, 'target': 959, 'label': 'has_synonym'}, {'source': 52, 'target': 962, 'label': 'is_involved_in'}, {'source': 52, 'target': 960, 'label': 'has_synonym'}, {'source': 52, 'target': 964, 'label': 'is_involved_in'}, {'source': 52, 'target': 961, 'label': 'is_located_in'}, {'source': 52, 'target': 931, 'label': 'is_involved_in'}, {'source': 52, 'target': 966, 'label': 'is_involved_in'}, {'source': 52, 'target': 348, 'label': 'most contain'}, {'source': 52, 'target': 466, 'label': 'intersect'}, {'source': 52, 'target': 349, 'label': 'most contain'}, {'source': 52, 'target': 339, 'label': 'intersect'}, {'source': 52, 'target': 305, 'label': 'intersect'}, {'source': 52, 'target': 341, 'label': 'intersect'}, {'source': 52, 'target': 391, 'label': 'intersect'}, {'source': 52, 'target': 370, 'label': 'intersect'}, {'source': 52, 'target': 372, 'label': 'most contain'}, {'source': 52, 'target': 63, 'label': 'intersect'}, {'source': 52, 'target': 350, 'label': 'intersect'}, {'source': 52, 'target': 71, 'label': 'intersect'}, {'source': 52, 'target': 198, 'label': 'intersect'}, {'source': 52, 'target': 336, 'label': 'intersect'}, {'source': 52, 'target': 360, 'label': 'most contain'}, {'source': 52, 'target': 332, 'label': 'intersect'}, {'source': 52, 'target': 373, 'label': 'most contain'}, {'source': 52, 'target': 438, 'label': 'intersect'}, {'source': 52, 'target': 297, 'label': 'intersect'}, {'source': 52, 'target': 369, 'label': 'intersect'}, {'source': 52, 'target': 59, 'label': 'intersect'}, {'source': 52, 'target': 351, 'label': 'intersect'}, {'source': 52, 'target': 347, 'label': 'intersect'}, {'source': 52, 'target': 357, 'label': 'intersect'}, {'source': 52, 'target': 345, 'label': 'intersect'}, {'source': 52, 'target': 445, 'label': 'intersect'}, {'source': 52, 'target': 473, 'label': 'intersect'}, {'source': 52, 'target': 363, 'label': 'intersect'}, {'source': 52, 'target': 294, 'label': 'intersect'}, {'source': 52, 'target': 309, 'label': 'intersect'}, {'source': 52, 'target': 471, 'label': 'intersect'}, {'source': 52, 'target': 371, 'label': 'intersect'}, {'source': 52, 'target': 358, 'label': 'intersect'}, {'source': 52, 'target': 365, 'label': 'intersect'}, {'source': 52, 'target': 335, 'label': 'intersect'}, {'source': 52, 'target': 334, 'label': 'intersect'}, {'source': 52, 'target': 48, 'label': 'intersect'}, {'source': 52, 'target': 440, 'label': 'intersect'}, {'source': 52, 'target': 68, 'label': 'intersect'}, {'source': 52, 'target': 179, 'label': 'intersect'}, {'source': 52, 'target': 64, 'label': 'intersect'}, {'source': 52, 'target': 338, 'label': 'most contain'}, {'source': 52, 'target': 436, 'label': 'most contain'}, {'source': 52, 'target': 310, 'label': 'intersect'}, {'source': 52, 'target': 366, 'label': 'intersect'}]\n"
     ]
    }
   ],
   "source": [
    "from py2neo import Graph\n",
    "\n",
    "graph = Graph(\"bolt://localhost:7687\", auth=(\"neo4j\", \"12345678\"))\n",
    "\n",
    "node_name = 'Brodmann.2'\n",
    "query = \"\"\"\n",
    "    MATCH (node)-[relationship]-(relatedNode)\n",
    "    WHERE node.name = $node_name\n",
    "    RETURN relationship\n",
    "    \"\"\"\n",
    "\n",
    "result = graph.run(query, node_name=node_name)\n",
    "\n",
    "node = None\n",
    "nodes = []\n",
    "relationships = []\n",
    "for record in result:\n",
    "    record = record['relationship']\n",
    "    if record.start_node['name'] == node_name:\n",
    "        if node is None:\n",
    "            node = {\n",
    "                'id': record.start_node.identity,\n",
    "                'label': record.start_node['name'],\n",
    "            }\n",
    "            nodes.append(node)\n",
    "        nodes.append({\n",
    "            'id': record.end_node.identity,\n",
    "            'label': record.end_node['name'],\n",
    "        })\n",
    "        relationships.append({\n",
    "            'source': record.start_node.identity,\n",
    "            'target': record.end_node.identity,\n",
    "            'label': record['name'],\n",
    "        })\n",
    "print(nodes)\n",
    "print(relationships)"
   ]
  }
 ],
 "metadata": {
  "kernelspec": {
   "display_name": "Python 3",
   "language": "python",
   "name": "python3"
  },
  "language_info": {
   "codemirror_mode": {
    "name": "ipython",
    "version": 3
   },
   "file_extension": ".py",
   "mimetype": "text/x-python",
   "name": "python",
   "nbconvert_exporter": "python",
   "pygments_lexer": "ipython3",
   "version": "3.10.8"
  },
  "orig_nbformat": 4
 },
 "nbformat": 4,
 "nbformat_minor": 2
}
