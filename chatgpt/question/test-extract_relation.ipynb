{
 "cells": [
  {
   "cell_type": "code",
   "execution_count": 1,
   "metadata": {},
   "outputs": [],
   "source": [
    "import openai\n",
    "import os\n",
    "\n",
    "os.environ['HTTP_PROXY'] = '192.168.1.34:7890'\n",
    "os.environ['HTTPS_PROXY'] = '192.168.1.34:7890'\n",
    "\n",
    "openai.api_key_path = '../../data/api-key.txt'\n",
    "\n",
    "def call(content: str):\n",
    "    message = [\n",
    "        {'role': 'user', 'content': content},\n",
    "    ]\n",
    "    response = openai.ChatCompletion.create(\n",
    "        model='gpt-3.5-turbo',\n",
    "        messages=message,\n",
    "        temperature=0,\n",
    "    )\n",
    "    return response['choices'][0]['message']['content']"
   ]
  },
  {
   "cell_type": "code",
   "execution_count": 2,
   "metadata": {},
   "outputs": [],
   "source": [
    "corpus = \"\"\"\n",
    "BA11 is connected to several brain regions, including the medial prefrontal cortex, anterior cingulate cortex, and orbitofrontal cortex. It is also part of the default mode network, which is involved in self-referential thinking and mind-wandering.\n",
    "BA11 has been implicated in several psychiatric and neurological disorders, including depression, schizophrenia, and Alzheimer's disease. Abnormal activity in this region has also been associated with impulsivity and poor decision-making.\n",
    "BA11 plays a role in various cognitive processes, such as working memory, attention, and decision-making. It is also involved in social cognition, including theory of mind and empathy.\n",
    "BA11 is involved in emotional regulation and processing, particularly in the context of social emotions such as empathy and guilt. Dysfunction in this region has been linked to emotional dysregulation and mood disorders.\n",
    "BA11 is associated with several behaviors, including social behavior, decision-making, and impulsivity. Dysfunction in this region has been linked to impulsive behavior and poor decision-making.\n",
    "There is limited research on the specific effects of drugs on BA11. However, some studies have suggested that certain drugs, such as antidepressants and antipsychotics, may modulate activity in this region.\n",
    "\"\"\""
   ]
  },
  {
   "cell_type": "code",
   "execution_count": 3,
   "metadata": {},
   "outputs": [],
   "source": [
    "prompt = f\"\"\"\n",
    "Your task is to extract brain science field entities and relationships from text delimited with triple backticks as accurate as possible and organize them into relational triples.\n",
    "The text is as follows: '''{corpus}'''.\n",
    "The relational triplet format is as follows: [[\"entity1\", \"relationship\", \"entity2\"], ...]\n",
    "If you can't answer, you must only output []\n",
    "\"\"\""
   ]
  },
  {
   "cell_type": "code",
   "execution_count": 4,
   "metadata": {},
   "outputs": [
    {
     "name": "stdout",
     "output_type": "stream",
     "text": [
      "[[\"BA11\", \"connected to\", \"medial prefrontal cortex\"], [\"BA11\", \"connected to\", \"anterior cingulate cortex\"], [\"BA11\", \"connected to\", \"orbitofrontal cortex\"], [\"BA11\", \"part of\", \"default mode network\"], [\"BA11\", \"implicated in\", \"depression\"], [\"BA11\", \"implicated in\", \"schizophrenia\"], [\"BA11\", \"implicated in\", \"Alzheimer's disease\"], [\"BA11\", \"associated with\", \"impulsivity\"], [\"BA11\", \"associated with\", \"poor decision-making\"], [\"BA11\", \"plays a role in\", \"working memory\"], [\"BA11\", \"plays a role in\", \"attention\"], [\"BA11\", \"plays a role in\", \"decision-making\"], [\"BA11\", \"involved in\", \"social cognition\"], [\"BA11\", \"involved in\", \"theory of mind\"], [\"BA11\", \"involved in\", \"empathy\"], [\"BA11\", \"involved in\", \"emotional regulation\"], [\"BA11\", \"involved in\", \"processing\"], [\"BA11\", \"linked to\", \"emotional dysregulation\"], [\"BA11\", \"linked to\", \"mood disorders\"], [\"BA11\", \"associated with\", \"social behavior\"], [\"BA11\", \"linked to\", \"drugs\"], [\"antidepressants\", \"modulate activity in\", \"BA11\"], [\"antipsychotics\", \"modulate activity in\", \"BA11\"]]\n"
     ]
    }
   ],
   "source": [
    "print(call(prompt))"
   ]
  }
 ],
 "metadata": {
  "kernelspec": {
   "display_name": "Python 3",
   "language": "python",
   "name": "python3"
  },
  "language_info": {
   "codemirror_mode": {
    "name": "ipython",
    "version": 3
   },
   "file_extension": ".py",
   "mimetype": "text/x-python",
   "name": "python",
   "nbconvert_exporter": "python",
   "pygments_lexer": "ipython3",
   "version": "3.11.3"
  },
  "orig_nbformat": 4
 },
 "nbformat": 4,
 "nbformat_minor": 2
}
