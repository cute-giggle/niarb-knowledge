{
 "cells": [
  {
   "cell_type": "code",
   "execution_count": 4,
   "metadata": {},
   "outputs": [],
   "source": [
    "import openai\n",
    "import os\n",
    "import json\n",
    "\n",
    "os.environ['HTTP_PROXY'] = '192.168.1.34:7890'\n",
    "os.environ['HTTPS_PROXY'] = '192.168.1.34:7890'\n",
    "\n",
    "openai.api_key_path = '../../data/api-key.txt'\n",
    "\n",
    "def call(content: str):\n",
    "    message = [\n",
    "        {'role': 'user', 'content': content},\n",
    "    ]\n",
    "    response = openai.ChatCompletion.create(\n",
    "        model='gpt-3.5-turbo',\n",
    "        messages=message,\n",
    "        temperature=0,\n",
    "    )\n",
    "    return response['choices'][0]['message']['content']"
   ]
  },
  {
   "cell_type": "code",
   "execution_count": 5,
   "metadata": {},
   "outputs": [],
   "source": [
    "brain_region_name = 'Transverse temporal'\n",
    "format_request = json.dumps({\"Name\":\"...\",\"Synonym\":[\"...\",],\"Description\":\"...\",\"Relational corpus\":{\"Brain regions\":\"...\",\"Diseases\":\"...\",\"Cognition\":\"...\",\"Emotions\":\"...\",\"Behaviors\":\"...\",\"Drugs\":\"...\"}})\n",
    "\n",
    "prompt = f\"\"\"\n",
    "Your task is to give a detailed description associate with specified brain region about other brain regions, diseases, cognition, emotions, drugs, behaviors.\n",
    "The specified brain region name is as follows: '''{brain_region_name}'''.\n",
    "Please anwser in this json format: {format_request}\n",
    "If you can't answer, you must only output empty json data.\n",
    "\"\"\""
   ]
  },
  {
   "cell_type": "code",
   "execution_count": 6,
   "metadata": {},
   "outputs": [
    {
     "name": "stdout",
     "output_type": "stream",
     "text": [
      "{\"Name\": \"Transverse temporal\", \"Synonym\": [\"Heschl's gyrus\"], \"Description\": \"The transverse temporal gyrus is a region of the brain located in the temporal lobe. It is responsible for processing auditory information and is the primary auditory cortex.\", \"Relational corpus\": {\"Brain regions\": \"The transverse temporal gyrus is connected to other regions of the auditory pathway, including the inferior colliculus, medial geniculate nucleus, and auditory association cortex. It also has connections to the prefrontal cortex, which is involved in higher-order cognitive processes.\", \"Diseases\": \"Damage to the transverse temporal gyrus can result in auditory processing disorders, such as auditory agnosia and amusia. It has also been implicated in disorders such as schizophrenia and autism spectrum disorder.\", \"Cognition\": \"The transverse temporal gyrus is involved in the perception and processing of auditory information, including speech and music. It is also involved in the localization of sound sources.\", \"Emotions\": \"The transverse temporal gyrus has been implicated in the processing of emotional sounds, such as laughter and crying.\", \"Behaviors\": \"The transverse temporal gyrus is involved in a variety of auditory behaviors, including speech perception, music perception, and sound localization.\", \"Drugs\": \"There are no known drugs that specifically target the transverse temporal gyrus. However, drugs that affect the neurotransmitters involved in auditory processing, such as dopamine and serotonin, may indirectly affect the function of this region.\"}}\n"
     ]
    }
   ],
   "source": [
    "print(call(prompt))"
   ]
  }
 ],
 "metadata": {
  "kernelspec": {
   "display_name": "Python 3",
   "language": "python",
   "name": "python3"
  },
  "language_info": {
   "codemirror_mode": {
    "name": "ipython",
    "version": 3
   },
   "file_extension": ".py",
   "mimetype": "text/x-python",
   "name": "python",
   "nbconvert_exporter": "python",
   "pygments_lexer": "ipython3",
   "version": "3.11.3"
  },
  "orig_nbformat": 4
 },
 "nbformat": 4,
 "nbformat_minor": 2
}
